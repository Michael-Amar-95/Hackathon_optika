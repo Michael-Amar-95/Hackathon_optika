{
 "cells": [
  {
   "cell_type": "code",
   "execution_count": 1,
   "metadata": {},
   "outputs": [
    {
     "name": "stderr",
     "output_type": "stream",
     "text": [
      "c:\\Users\\itaid\\miniconda3\\envs\\optika\\lib\\site-packages\\tqdm\\auto.py:21: TqdmWarning: IProgress not found. Please update jupyter and ipywidgets. See https://ipywidgets.readthedocs.io/en/stable/user_install.html\n",
      "  from .autonotebook import tqdm as notebook_tqdm\n"
     ]
    }
   ],
   "source": [
    "import numpy as np\n",
    "import pandas as pd\n",
    "\n",
    "from sklearn.metrics import classification_report, confusion_matrix\n",
    "\n",
    "import shap\n",
    "import matplotlib.pyplot as plt\n",
    "\n",
    "\n",
    "from trainer import Trainer, TrainerConfig\n",
    "from classifier import ClassifierConfig, OptikaClassifier, Optimizer\n",
    "\n",
    "\n"
   ]
  },
  {
   "cell_type": "code",
   "execution_count": 2,
   "metadata": {},
   "outputs": [],
   "source": [
    "filepath = r\"C:\\Users\\itaid\\dev\\optika\\haim_data\\surgeries_with_measurements.csv\""
   ]
  },
  {
   "cell_type": "code",
   "execution_count": 3,
   "metadata": {},
   "outputs": [],
   "source": [
    "trainer_config = TrainerConfig(filepath)"
   ]
  },
  {
   "cell_type": "code",
   "execution_count": 4,
   "metadata": {},
   "outputs": [
    {
     "data": {
      "text/plain": [
       "False"
      ]
     },
     "execution_count": 4,
     "metadata": {},
     "output_type": "execute_result"
    }
   ],
   "source": [
    "trainer_config.one_hot_encode_missing_feature = False\n",
    "trainer_config.one_hot_encode_missing_feature"
   ]
  },
  {
   "cell_type": "code",
   "execution_count": 5,
   "metadata": {},
   "outputs": [
    {
     "name": "stdout",
     "output_type": "stream",
     "text": [
      "2024-11-27 16:26:41,415:INFO : File date: 2024-11-19 19:46:38\n",
      "2024-11-27 16:26:41,531:INFO : Dataframe shape: (3210, 527)\n"
     ]
    },
    {
     "name": "stderr",
     "output_type": "stream",
     "text": [
      "c:\\Users\\itaid\\dev\\optika\\trainer.py:154: DtypeWarning: Columns (17,19,21,23,51,52,53,54,55,56,58,60,61,65,71,75,78,79,80,82,83,84,85,86,89,90,94,96,99,102,105,109,110,136,137,138,139,141,143,144,145,147,148,152,159,161,163,164,165,166,167,168,169,171,174,177,179,181,187,189,190,193,194,195,216,217,222,227,229,230,245,246,256,258,259,288,293,296,298,299,320,323,325,328,330,331,332,333,361,362,363,364,365,366,367,368,389,390,392,393,394,395,396,418,419,420,421,422,423,424,425,426,439,440,441,442,443,444,445,446,447,448,478,483,498,502,509,513,514) have mixed types. Specify dtype option on import or set low_memory=False.\n",
      "  self.base_df = pd.read_csv(self.config.filepath)\n"
     ]
    }
   ],
   "source": [
    "trainer = Trainer(trainer_config)"
   ]
  },
  {
   "cell_type": "code",
   "execution_count": 6,
   "metadata": {},
   "outputs": [
    {
     "name": "stdout",
     "output_type": "stream",
     "text": [
      "2024-11-27 16:26:41,552:INFO : Filtering\n",
      "2024-11-27 16:26:41,560:INFO : Removed 1164 (36.3%) rows - all deviation features missing\n",
      "2024-11-27 16:26:41,569:INFO : Removed 136 (4.2%) rows - all surgery features missing or zero\n",
      "2024-11-27 16:26:41,569:INFO : Removed 29 (0.9%) rows - Kestenbaum procedure\n",
      "2024-11-27 16:26:41,569:INFO : Removed 5 (0.2%) rows - Knapp procedure\n",
      "2024-11-27 16:26:41,582:INFO : Filtered dataframe shape: (1876, 527)\n",
      "2024-11-27 16:26:41,582:INFO : Preprocessing\n",
      "2024-11-27 16:26:41,646:INFO : Filling 3801 missing values for surgery features with 0\n",
      "2024-11-27 16:26:41,646:INFO : Preprocessed dataframe shape: (1876, 527)\n",
      "2024-11-27 16:26:41,646:INFO : Feature engineering\n",
      "2024-11-27 16:26:41,662:INFO : Present values per feature:\n",
      "DeviationsBefore_Resolved_Dsc     0.231343\n",
      "DeviationsBefore_Resolved_Nsc     0.474414\n",
      "DeviationsBefore_Resolved_Dcc     0.548507\n",
      "DeviationsBefore_Resolved_Ncc     0.617804\n",
      "DCVABefore_DccLE_LogMar           0.526652\n",
      "DCVABefore_DccRE_LogMar           0.526119\n",
      "DCVABefore_DccBE_LogMar           0.007463\n",
      "D_SC_VABefore_DscLE_LogMar        0.242537\n",
      "D_SC_VABefore_DscRE_LogMar        0.241471\n",
      "D_SC_VABefore_DscBE_LogMar        0.003731\n",
      "RefractionBefore_LE_SE            0.792644\n",
      "RefractionBefore_RE_SE            0.793710\n",
      "MinN                              1.000000\n",
      "Age_Years                         1.000000\n",
      "DeviationsAfter_DaysDifference    1.000000\n",
      "RE_MR_num_mm                      1.000000\n",
      "LE_MR_num_mm                      1.000000\n",
      "RE_LR_num_mm                      1.000000\n",
      "LE_LR_num_mm                      1.000000\n",
      "2024-11-27 16:26:41,662:INFO : Dropping features due to missing values: {'DCVABefore_DccBE_LogMar', 'D_SC_VABefore_DscBE_LogMar'}\n",
      "2024-11-27 16:26:41,677:INFO : Separated rows per target:\n",
      "   sc_cc  d_n     0\n",
      "0      0    0   361\n",
      "1      0    1   813\n",
      "2      1    0   987\n",
      "3      1    1  1136\n",
      "New total is 3297 rows.\n",
      "2024-11-27 16:26:41,677:INFO : Filling 0 missing values for RefractionBefore_RE_SE with RefractionBefore_LE_SE\n",
      "2024-11-27 16:26:41,677:INFO : Filling 4 missing values for RefractionBefore_LE_SE with RefractionBefore_RE_SE\n",
      "2024-11-27 16:26:41,677:INFO : Filling 1 missing values for DCVABefore_DccRE_LogMar with DCVABefore_DccLE_LogMar\n",
      "2024-11-27 16:26:41,677:INFO : Filling 0 missing values for DCVABefore_DccLE_LogMar with DCVABefore_DccRE_LogMar\n",
      "2024-11-27 16:26:41,677:INFO : Filling 18 missing values for D_SC_VABefore_DscRE_LogMar with D_SC_VABefore_DscLE_LogMar\n",
      "2024-11-27 16:26:41,677:INFO : Filling 20 missing values for D_SC_VABefore_DscLE_LogMar with D_SC_VABefore_DscRE_LogMar\n",
      "2024-11-27 16:26:41,677:INFO : DCVABefore_DccBE_LogMar: filling 1304 missing values with the mean 0.1561164966481339\n",
      "2024-11-27 16:26:41,677:INFO : D_SC_VABefore_DscBE_LogMar: filling 2434 missing values with the mean 0.16159313033616937\n",
      "2024-11-27 16:26:41,693:INFO : RefractionBefore_BE_SE: filling 695 missing values with the mean 2.1788528055342042\n",
      "2024-11-27 16:26:41,732:INFO : Engineered dataframe shape: (3297, 40)\n",
      "2024-11-27 16:26:41,732:INFO : Train-test split\n",
      "2024-11-27 16:26:41,732:INFO : Train dataframe shape: (2649, 40)\n",
      "2024-11-27 16:26:41,732:INFO : Test dataframe shape: (648, 40)\n",
      "2024-11-27 16:26:41,732:INFO : Done\n"
     ]
    }
   ],
   "source": [
    "trainer.run_everything(no_training=True)"
   ]
  },
  {
   "cell_type": "code",
   "execution_count": 7,
   "metadata": {},
   "outputs": [
    {
     "data": {
      "text/plain": [
       "Index(['Code', 'DeviationsBefore_Resolved_Dsc',\n",
       "       'DeviationsBefore_Resolved_Nsc', 'DeviationsBefore_Resolved_Dcc',\n",
       "       'DeviationsBefore_Resolved_Ncc', 'DCVABefore_DccLE_LogMar',\n",
       "       'DCVABefore_DccRE_LogMar', 'D_SC_VABefore_DscLE_LogMar',\n",
       "       'D_SC_VABefore_DscRE_LogMar', 'RefractionBefore_LE_SE',\n",
       "       'RefractionBefore_RE_SE', 'LE_MR_num_mm', 'RE_MR_num_mm',\n",
       "       'LE_LR_num_mm', 'RE_LR_num_mm', 'DCVABefore_DccBE_LogMar',\n",
       "       'D_SC_VABefore_DscBE_LogMar', 'RefractionBefore_BE_SE', 'MinN',\n",
       "       'Age_Years', 'DeviationsAfter_DaysDifference', 'BE_MR_num_mm',\n",
       "       'BE_LR_num_mm', 'sc_cc', 'd_n', 'DeviationsAfter_Resolved_Dsc',\n",
       "       'DeviationsAfter_Resolved_Nsc', 'DeviationsAfter_Resolved_Dcc',\n",
       "       'DeviationsAfter_Resolved_Ncc', 'DeviationsDiff_Dsc',\n",
       "       'DeviationsDiff_Nsc', 'DeviationsDiff_Dcc', 'DeviationsDiff_Ncc',\n",
       "       'DeviationBefore', 'DeviationDiff', 'DeviationsAfter_Bracket',\n",
       "       'mono/bino', 'Baseline_Haim', 'Baseline_Write', 'Baseline_Parks'],\n",
       "      dtype='object')"
      ]
     },
     "execution_count": 7,
     "metadata": {},
     "output_type": "execute_result"
    }
   ],
   "source": [
    "trainer.train_df.columns"
   ]
  },
  {
   "cell_type": "markdown",
   "metadata": {},
   "source": [
    "## Examine regression predictions"
   ]
  },
  {
   "cell_type": "code",
   "execution_count": 8,
   "metadata": {},
   "outputs": [],
   "source": [
    "# trainer.calibration_plot(name=\"mae - train\", df=trainer.train_df)"
   ]
  },
  {
   "cell_type": "code",
   "execution_count": 9,
   "metadata": {},
   "outputs": [],
   "source": [
    "# # import matplotlib.pyplot as plt\n",
    "\n",
    "# trainer.calibration_plot(name=\"mae - test\", df=trainer.test_df)\n",
    "# # plt.plot([-40, 40], [-40, 40], \"--k\")"
   ]
  },
  {
   "cell_type": "code",
   "execution_count": 10,
   "metadata": {},
   "outputs": [],
   "source": [
    "train_df = trainer.train_df\n",
    "test_df = trainer.test_df"
   ]
  },
  {
   "cell_type": "code",
   "execution_count": 11,
   "metadata": {},
   "outputs": [],
   "source": [
    "# # plt.scatter(train_df[\"DeviationDiff\"], train_df[\"DeviationDiff_Pred\"])\n",
    "# line_lims = [-40, 40]\n",
    "# ax = train_df.plot.scatter(\"DeviationDiff\", \"DeviationDiff_Pred\", s=2, color='teal')\n",
    "# # ax.set_title(name)\n",
    "# ax.plot(line_lims, line_lims, '--r')\n",
    "# ax.set_xlim([-100, 100])\n",
    "# ax.set_ylim([-40, 40])\n",
    "# ax.set_xlabel('Actual')\n",
    "# ax.set_ylabel('Predicted')"
   ]
  },
  {
   "cell_type": "code",
   "execution_count": 12,
   "metadata": {},
   "outputs": [],
   "source": [
    "\n",
    "# def print_errors_summary(train_df):\n",
    "#     train_errors = train_df[\"DeviationDiff\"] - train_df[\"DeviationDiff_Pred\"]\n",
    "#     train_mae = train_errors.abs().mean()\n",
    "#     train_median_error = np.median(train_errors.abs())\n",
    "#     train_p80_error = np.percentile(train_errors.abs(), 80)\n",
    "#     percentile_for_under_10mm = 70.25\n",
    "#     train_10mm_error_percentile = np.percentile(train_errors.abs(), percentile_for_under_10mm)\n",
    "#     print(f\"train mae = {train_mae:.3f} [mm]\")\n",
    "#     print(f\"train medain error = {train_median_error:.3f} [mm]\")\n",
    "#     print(f\"train 80% percentile = {train_p80_error:.3f} [mm]\")\n",
    "#     print(f\"train <10mm percentile = {percentile_for_under_10mm}% for a {train_10mm_error_percentile:.3f} [mm] error\")\n",
    "\n",
    "# print_errors_summary(train_df)"
   ]
  },
  {
   "cell_type": "code",
   "execution_count": 13,
   "metadata": {},
   "outputs": [],
   "source": [
    "# print_errors_summary(test_df)"
   ]
  },
  {
   "cell_type": "code",
   "execution_count": 14,
   "metadata": {},
   "outputs": [],
   "source": [
    "# train_df[\"DeviationDiff\"].hist(bins=100)\n"
   ]
  },
  {
   "cell_type": "code",
   "execution_count": 15,
   "metadata": {},
   "outputs": [
    {
     "data": {
      "text/html": [
       "<div>\n",
       "<style scoped>\n",
       "    .dataframe tbody tr th:only-of-type {\n",
       "        vertical-align: middle;\n",
       "    }\n",
       "\n",
       "    .dataframe tbody tr th {\n",
       "        vertical-align: top;\n",
       "    }\n",
       "\n",
       "    .dataframe thead th {\n",
       "        text-align: right;\n",
       "    }\n",
       "</style>\n",
       "<table border=\"1\" class=\"dataframe\">\n",
       "  <thead>\n",
       "    <tr style=\"text-align: right;\">\n",
       "      <th></th>\n",
       "      <th>DeviationsAfter_Resolved_Dsc</th>\n",
       "      <th>DeviationsAfter_Resolved_Nsc</th>\n",
       "      <th>DeviationsAfter_Resolved_Dcc</th>\n",
       "      <th>DeviationsAfter_Resolved_Ncc</th>\n",
       "    </tr>\n",
       "  </thead>\n",
       "  <tbody>\n",
       "    <tr>\n",
       "      <th>0</th>\n",
       "      <td>-11.0</td>\n",
       "      <td>-10.0</td>\n",
       "      <td>NaN</td>\n",
       "      <td>NaN</td>\n",
       "    </tr>\n",
       "    <tr>\n",
       "      <th>1</th>\n",
       "      <td>-4.0</td>\n",
       "      <td>-6.0</td>\n",
       "      <td>NaN</td>\n",
       "      <td>NaN</td>\n",
       "    </tr>\n",
       "    <tr>\n",
       "      <th>2</th>\n",
       "      <td>-18.0</td>\n",
       "      <td>-20.0</td>\n",
       "      <td>NaN</td>\n",
       "      <td>NaN</td>\n",
       "    </tr>\n",
       "    <tr>\n",
       "      <th>3</th>\n",
       "      <td>-16.0</td>\n",
       "      <td>-20.0</td>\n",
       "      <td>NaN</td>\n",
       "      <td>NaN</td>\n",
       "    </tr>\n",
       "    <tr>\n",
       "      <th>4</th>\n",
       "      <td>-14.0</td>\n",
       "      <td>-20.0</td>\n",
       "      <td>NaN</td>\n",
       "      <td>NaN</td>\n",
       "    </tr>\n",
       "  </tbody>\n",
       "</table>\n",
       "</div>"
      ],
      "text/plain": [
       "   DeviationsAfter_Resolved_Dsc  DeviationsAfter_Resolved_Nsc  \\\n",
       "0                         -11.0                         -10.0   \n",
       "1                          -4.0                          -6.0   \n",
       "2                         -18.0                         -20.0   \n",
       "3                         -16.0                         -20.0   \n",
       "4                         -14.0                         -20.0   \n",
       "\n",
       "   DeviationsAfter_Resolved_Dcc  DeviationsAfter_Resolved_Ncc  \n",
       "0                           NaN                           NaN  \n",
       "1                           NaN                           NaN  \n",
       "2                           NaN                           NaN  \n",
       "3                           NaN                           NaN  \n",
       "4                           NaN                           NaN  "
      ]
     },
     "execution_count": 15,
     "metadata": {},
     "output_type": "execute_result"
    }
   ],
   "source": [
    "train_df[trainer_config.raw_targets].head()"
   ]
  },
  {
   "cell_type": "code",
   "execution_count": 16,
   "metadata": {},
   "outputs": [
    {
     "data": {
      "text/plain": [
       "DeviationsAfter_Resolved_Dsc    1895\n",
       "DeviationsAfter_Resolved_Nsc    1280\n",
       "DeviationsAfter_Resolved_Dcc     816\n",
       "DeviationsAfter_Resolved_Ncc     775\n",
       "dtype: int64"
      ]
     },
     "execution_count": 16,
     "metadata": {},
     "output_type": "execute_result"
    }
   ],
   "source": [
    "train_df[trainer_config.raw_targets].isna().sum()"
   ]
  },
  {
   "cell_type": "code",
   "execution_count": 17,
   "metadata": {},
   "outputs": [
    {
     "name": "stdout",
     "output_type": "stream",
     "text": [
      "DeviationsAfter_Resolved_Dsc\n",
      "DeviationsAfter_Resolved_Nsc\n",
      "DeviationsAfter_Resolved_Dcc\n",
      "DeviationsAfter_Resolved_Ncc\n"
     ]
    },
    {
     "data": {
      "image/png": "[encoded data removed]",
      "text/plain": [
       "<Figure size 640x480 with 4 Axes>"
      ]
     },
     "metadata": {},
     "output_type": "display_data"
    }
   ],
   "source": [
    "fig, ax = plt.subplots(2,2)\n",
    "ax = ax.flatten()\n",
    "for ii, target in enumerate(list(trainer_config.raw_targets)):\n",
    "    print(target)\n",
    "    ax[ii].hist(train_df[target], bins=50)\n",
    "    ax[ii].set_title(target)\n",
    "\n",
    "plt.show()"
   ]
  },
  {
   "cell_type": "code",
   "execution_count": 18,
   "metadata": {},
   "outputs": [
    {
     "name": "stderr",
     "output_type": "stream",
     "text": [
      "C:\\Users\\itaid\\AppData\\Local\\Temp\\ipykernel_22644\\954369151.py:1: SettingWithCopyWarning: \n",
      "A value is trying to be set on a copy of a slice from a DataFrame.\n",
      "Try using .loc[row_indexer,col_indexer] = value instead\n",
      "\n",
      "See the caveats in the documentation: https://pandas.pydata.org/pandas-docs/stable/user_guide/indexing.html#returning-a-view-versus-a-copy\n",
      "  train_df['DeviationAfter'] = train_df[trainer_config.final_before] + train_df[trainer_config.final_target]\n"
     ]
    },
    {
     "data": {
      "text/plain": [
       "count    2649.000000\n",
       "mean       -6.670819\n",
       "std        11.167648\n",
       "min      -225.000000\n",
       "25%       -12.000000\n",
       "50%        -6.000000\n",
       "75%         0.000000\n",
       "max        70.000000\n",
       "Name: DeviationAfter, dtype: float64"
      ]
     },
     "execution_count": 18,
     "metadata": {},
     "output_type": "execute_result"
    }
   ],
   "source": [
    "train_df['DeviationAfter'] = train_df[trainer_config.final_before] + train_df[trainer_config.final_target]\n",
    "train_df['DeviationAfter'].describe()\n"
   ]
  },
  {
   "cell_type": "markdown",
   "metadata": {},
   "source": [
    "## Classifier"
   ]
  },
  {
   "cell_type": "code",
   "execution_count": 19,
   "metadata": {},
   "outputs": [],
   "source": [
    "# from classifier import ClassifierConfig, OptikaClassifier\n",
    "\n",
    "cls_config = ClassifierConfig\n",
    "cls = OptikaClassifier(cls_config)"
   ]
  },
  {
   "cell_type": "code",
   "execution_count": 20,
   "metadata": {},
   "outputs": [],
   "source": [
    "X_train, y_train = cls.get_X_Y(trainer.eng_df)"
   ]
  },
  {
   "cell_type": "code",
   "execution_count": 21,
   "metadata": {},
   "outputs": [],
   "source": [
    "cls.train_binary_classifier(X_train, y_train)\n",
    "model = cls.model"
   ]
  },
  {
   "cell_type": "code",
   "execution_count": 22,
   "metadata": {},
   "outputs": [],
   "source": [
    "train_preds = model.predict(X_train)"
   ]
  },
  {
   "cell_type": "code",
   "execution_count": 23,
   "metadata": {},
   "outputs": [
    {
     "name": "stdout",
     "output_type": "stream",
     "text": [
      "              precision    recall  f1-score   support\n",
      "\n",
      "           0       0.84      0.80      0.82      1116\n",
      "           1       0.90      0.92      0.91      2181\n",
      "\n",
      "    accuracy                           0.88      3297\n",
      "   macro avg       0.87      0.86      0.87      3297\n",
      "weighted avg       0.88      0.88      0.88      3297\n",
      "\n"
     ]
    }
   ],
   "source": [
    "# from sklearn.metrics import classification_report, confusion_matrix\n",
    "\n",
    "print(classification_report(y_train, train_preds))"
   ]
  },
  {
   "cell_type": "code",
   "execution_count": 24,
   "metadata": {},
   "outputs": [
    {
     "data": {
      "text/plain": [
       "np.float64(0.6615104640582348)"
      ]
     },
     "execution_count": 24,
     "metadata": {},
     "output_type": "execute_result"
    }
   ],
   "source": [
    "y_train.mean()"
   ]
  },
  {
   "cell_type": "code",
   "execution_count": 25,
   "metadata": {},
   "outputs": [],
   "source": [
    "X_test, y_test = cls.get_X_Y(trainer.test_df)"
   ]
  },
  {
   "cell_type": "code",
   "execution_count": 26,
   "metadata": {},
   "outputs": [],
   "source": [
    "test_preds = model.predict(X_test)"
   ]
  },
  {
   "cell_type": "code",
   "execution_count": 27,
   "metadata": {},
   "outputs": [
    {
     "name": "stdout",
     "output_type": "stream",
     "text": [
      "              precision    recall  f1-score   support\n",
      "\n",
      "           0       0.86      0.83      0.85       252\n",
      "           1       0.90      0.91      0.91       396\n",
      "\n",
      "    accuracy                           0.88       648\n",
      "   macro avg       0.88      0.87      0.88       648\n",
      "weighted avg       0.88      0.88      0.88       648\n",
      "\n"
     ]
    }
   ],
   "source": [
    "print(classification_report(y_test, test_preds))"
   ]
  },
  {
   "cell_type": "code",
   "execution_count": 28,
   "metadata": {},
   "outputs": [
    {
     "data": {
      "text/plain": [
       "(7,)"
      ]
     },
     "execution_count": 28,
     "metadata": {},
     "output_type": "execute_result"
    }
   ],
   "source": [
    "example = X_train[0,:]\n",
    "example.shape"
   ]
  },
  {
   "cell_type": "code",
   "execution_count": 29,
   "metadata": {},
   "outputs": [
    {
     "data": {
      "text/plain": [
       "('RE_MR_num_mm',\n",
       " 'LE_MR_num_mm',\n",
       " 'RE_LR_num_mm',\n",
       " 'LE_LR_num_mm',\n",
       " 'MinN',\n",
       " 'Age_Years',\n",
       " 'DeviationBefore')"
      ]
     },
     "execution_count": 29,
     "metadata": {},
     "output_type": "execute_result"
    }
   ],
   "source": [
    "cls_config.features"
   ]
  },
  {
   "cell_type": "code",
   "execution_count": null,
   "metadata": {},
   "outputs": [],
   "source": []
  },
  {
   "cell_type": "markdown",
   "metadata": {},
   "source": [
    "## Explain predictions"
   ]
  },
  {
   "cell_type": "code",
   "execution_count": 30,
   "metadata": {},
   "outputs": [],
   "source": [
    "# # Create SHAP explainer\n",
    "# explainer = shap.TreeExplainer(model)\n",
    "\n"
   ]
  },
  {
   "cell_type": "code",
   "execution_count": 31,
   "metadata": {},
   "outputs": [],
   "source": [
    "# # Calculate SHAP values\n",
    "# shap_values = explainer.shap_values(X_train)\n",
    "\n"
   ]
  },
  {
   "cell_type": "code",
   "execution_count": 32,
   "metadata": {},
   "outputs": [],
   "source": [
    "# # Select a specific instance for explanation\n",
    "# instance_index = 0  # Choose the first instance\n",
    "# shap_values_for_instance = shap_values[instance_index, :,1]  # For class 1\n",
    "# expected_value = explainer.expected_value[1]  # Base value for class 1\n",
    "# original_values = X_train[instance_index]\n",
    "\n"
   ]
  },
  {
   "cell_type": "code",
   "execution_count": 33,
   "metadata": {},
   "outputs": [],
   "source": [
    "# feature_names=cls_config.features\n",
    "# feature_names"
   ]
  },
  {
   "cell_type": "code",
   "execution_count": 34,
   "metadata": {},
   "outputs": [],
   "source": [
    "# # Create a SHAP waterfall plot\n",
    "# shap.waterfall_plot(shap.Explanation(\n",
    "#     values=shap_values_for_instance,\n",
    "#     base_values=expected_value,\n",
    "#     data=original_values,\n",
    "#     feature_names=feature_names\n",
    "# ))\n"
   ]
  },
  {
   "cell_type": "markdown",
   "metadata": {},
   "source": [
    "## Calculator"
   ]
  },
  {
   "cell_type": "code",
   "execution_count": 35,
   "metadata": {},
   "outputs": [],
   "source": [
    "from predictor import Predictor\n",
    "\n",
    "# Init predictor with classifier\n",
    "predictor = Predictor(model=cls)"
   ]
  },
  {
   "cell_type": "code",
   "execution_count": null,
   "metadata": {},
   "outputs": [],
   "source": [
    "# Set input\n",
    "pred_input = {\n",
    "    'MinN': np.float64(0.0),\n",
    "    'Age_Years': np.float64(2.495890410958904),\n",
    "    'DeviationBefore': np.float64(-25.0)\n",
    "    }"
   ]
  },
  {
   "cell_type": "code",
   "execution_count": 42,
   "metadata": {},
   "outputs": [
    {
     "name": "stdout",
     "output_type": "stream",
     "text": [
      "LR_both_eyes - Optimal Features:\n",
      "  RE_MR_num_mm: 0.0000\n",
      "  LE_MR_num_mm: 0.0000\n",
      "  RE_LR_num_mm: 0.5000\n",
      "  LE_LR_num_mm: 0.5000\n",
      "\n",
      "LR_both_eyes - Classifier Prediction: 0.9411\n",
      "MR_both_eyes - Optimal Features:\n",
      "  RE_MR_num_mm: -3.2500\n",
      "  LE_MR_num_mm: -3.2500\n",
      "  RE_LR_num_mm: 0.0000\n",
      "  LE_LR_num_mm: 0.0000\n",
      "\n",
      "MR_both_eyes - Classifier Prediction: 0.9277\n",
      "single_eye - Optimal Features:\n",
      "  RE_MR_num_mm: -3.2500\n",
      "  LE_MR_num_mm: 0.0000\n",
      "  RE_LR_num_mm: 0.5000\n",
      "  LE_LR_num_mm: 0.0000\n",
      "\n",
      "single_eye - Classifier Prediction: 0.9291\n",
      "Optimal surgery is 'LR_both_eyes'\n"
     ]
    },
    {
     "data": {
      "text/plain": [
       "SurgeryPrescription(MR_both_eyes=np.float16(0.0), LR_both_eyes=np.float64(0.5), MR_single_eye=np.float16(0.0), LR_single_eye=np.float16(0.0))"
      ]
     },
     "execution_count": 42,
     "metadata": {},
     "output_type": "execute_result"
    }
   ],
   "source": [
    "# Predict\n",
    "prediction = predictor.predict_proba(Deviation=pred_input[\"DeviationBefore\"], Gender=pred_input[\"MinN\"], Age_Years=pred_input[\"Age_Years\"])\n",
    "prediction"
   ]
  },
  {
   "cell_type": "code",
   "execution_count": 38,
   "metadata": {},
   "outputs": [
    {
     "data": {
      "text/plain": [
       "{'RE_MR_num_mm': np.float64(-3.5),\n",
       " 'LE_MR_num_mm': np.float64(-3.5),\n",
       " 'RE_LR_num_mm': np.float64(0.0),\n",
       " 'LE_LR_num_mm': np.float64(0.0),\n",
       " 'MinN': np.float64(0.0),\n",
       " 'Age_Years': np.float64(2.495890410958904),\n",
       " 'DeviationBefore': np.float64(-25.0)}"
      ]
     },
     "execution_count": 38,
     "metadata": {},
     "output_type": "execute_result"
    }
   ],
   "source": [
    "{k:v for k,v in zip(cls.config.features,X_train[0])}"
   ]
  },
  {
   "cell_type": "code",
   "execution_count": null,
   "metadata": {},
   "outputs": [],
   "source": []
  }
 ],
 "metadata": {
  "kernelspec": {
   "display_name": "optika",
   "language": "python",
   "name": "python3"
  },
  "language_info": {
   "codemirror_mode": {
    "name": "ipython",
    "version": 3
   },
   "file_extension": ".py",
   "mimetype": "text/x-python",
   "name": "python",
   "nbconvert_exporter": "python",
   "pygments_lexer": "ipython3",
   "version": "3.10.8"
  }
 },
 "nbformat": 4,
 "nbformat_minor": 2
}
